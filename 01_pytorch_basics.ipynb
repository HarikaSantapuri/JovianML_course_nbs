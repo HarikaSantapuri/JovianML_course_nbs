{
  "nbformat": 4,
  "nbformat_minor": 0,
  "metadata": {
    "kernelspec": {
      "display_name": "Python 3",
      "language": "python",
      "name": "python3"
    },
    "language_info": {
      "codemirror_mode": {
        "name": "ipython",
        "version": 3
      },
      "file_extension": ".py",
      "mimetype": "text/x-python",
      "name": "python",
      "nbconvert_exporter": "python",
      "pygments_lexer": "ipython3",
      "version": "3.7.6"
    },
    "colab": {
      "name": "01-pytorch-basics.ipynb",
      "provenance": [],
      "include_colab_link": true
    }
  },
  "cells": [
    {
      "cell_type": "markdown",
      "metadata": {
        "id": "view-in-github",
        "colab_type": "text"
      },
      "source": [
        "<a href=\"https://colab.research.google.com/github/HarikaSantapuri/JovianML_course_nbs/blob/master/01_pytorch_basics.ipynb\" target=\"_parent\"><img src=\"https://colab.research.google.com/assets/colab-badge.svg\" alt=\"Open In Colab\"/></a>"
      ]
    },
    {
      "cell_type": "markdown",
      "metadata": {
        "id": "ZVIGOfIuFVk0",
        "colab_type": "text"
      },
      "source": [
        "# PyTorch Basics: Tensors & Gradients\n",
        "\n",
        "#### *Part 1 of \"Pytorch: Zero to GANs\"*\n",
        "\n",
        "*This post is the first in a series of tutorials on building deep learning models with PyTorch, an open source neural networks library developed and maintained by Facebook. Check out the full series:*\n",
        "\n",
        "1. [PyTorch Basics: Tensors & Gradients](https://jovian.ml/aakashns/01-pytorch-basics)\n",
        "2. [Linear Regression & Gradient Descent](https://jovian.ml/aakashns/02-linear-regression)\n",
        "3. [Image Classfication using Logistic Regression](https://jovian.ml/aakashns/03-logistic-regression) \n",
        "4. [Training Deep Neural Networks on a GPU](https://jovian.ml/aakashns/04-feedforward-nn)\n",
        "5. [Image Classification using Convolutional Neural Networks](https://jovian.ml/aakashns/05-cifar10-cnn)\n",
        "6. [Data Augmentation, Regularization and ResNets](https://jovian.ml/aakashns/05b-cifar10-resnet)\n",
        "7. [Generating Images using Generative Adverserial Networks](https://jovian.ml/aakashns/06-mnist-gan)\n",
        "\n",
        "This series attempts to make PyTorch a bit more approachable for people starting out with deep learning and neural networks. In this notebook, we’ll cover the basic building blocks of PyTorch models: tensors and gradients."
      ]
    },
    {
      "cell_type": "markdown",
      "metadata": {
        "id": "y7Rg6oj8FVk1",
        "colab_type": "text"
      },
      "source": [
        "## System setup\n",
        "\n",
        "This tutorial takes a code-first approach towards learning PyTorch, and you should try to follow along by running and experimenting with the code yourself. The easiest way to start executing this notebook is to click the **\"Run\"** button at the top of this page, and select **\"Run on Binder\"**. This will run the notebook on [mybinder.org](https://mybinder.org), a free online service for running Jupyter notebooks.\n",
        "\n",
        "**NOTE**: *If you're running this notebook on Binder, please skip ahead to the next section.*\n",
        "\n",
        "### Running on your computer locally\n",
        "\n",
        "We'll use the [Anaconda distribution](https://www.anaconda.com/distribution/) of Python to install libraries and manage virtual environments. For interactive coding and experimentation, we'll use [Jupyter notebooks](https://jupyter.org/). All the tutorials in this series are available as Jupyter notebooks hosted on [Jovian.ml](https://www.jovian.ml): a sharing and collaboration platform for Jupyter notebooks & machine learning experiments.\n",
        "\n",
        "Jovian.ml makes it easy to share Jupyter notebooks on the cloud by running a single command directly within Jupyter. It also captures the Python environment and libraries required to run your notebook, so anyone (including you) can reproduce your work.\n",
        "\n",
        "Here's what you need to do to get started:\n",
        "\n",
        "1. Install Anaconda by following the [instructions given here](https://conda.io/projects/conda/en/latest/user-guide/install/index.html). You might also need to add Anaconda binaries to your system PATH to be able to run the `conda` command line tool.\n",
        "\n",
        "\n",
        "2. Install the `jovian` Python library by the running the following command (without the `$`) on your Mac/Linux terminal or Windows command prompt:\n",
        "\n",
        "```\n",
        "$ pip install jovian --upgrade\n",
        "```\n",
        "\n",
        "3. Download the notebook for this tutorial using the `jovian clone` command:\n",
        "\n",
        "```\n",
        "$ jovian clone aakashns/01-pytorch-basics\n",
        "```\n",
        "\n",
        "(You can copy this command to clipboard by clicking the 'Clone' button at the top of this page on Jovian.ml)\n",
        "\n",
        "Running the clone command creates a directory `01-pytorch-basics` containing a Jupyter notebook and an Anaconda environment file.\n",
        "\n",
        "```\n",
        "$ ls 01-pytorch-basics\n",
        "01-pytorch-basics.ipynb  environment.yml\n",
        "```\n",
        "\n",
        "4. Now we can enter the directory and install the required Python libraries (Jupyter, PyTorch etc.) with a single command using `jovian`:\n",
        "\n",
        "```\n",
        "$ cd 01-pytorch-basics\n",
        "$ jovian install\n",
        "```\n",
        "\n",
        "`jovian install` reads the `environment.yml` file, identifies the right dependencies for your operating system, creates a virtual environment with the given name (`01-pytorch-basics` by default) and installs all the required libraries inside the environment, to avoid modifying your system-wide installation of Python. It uses `conda` internally. If you face issues with `jovian install`, try running `conda env update` instead.\n",
        "\n",
        "5. We can activate the virtual environment by running\n",
        "\n",
        "```\n",
        "$ conda activate 01-pytorch-basics\n",
        "```\n",
        "\n",
        "For older installations of `conda`, you might need to run the command: `source activate 01-pytorch-basics`.\n",
        "\n",
        "6. Once the virtual environment is active, we can start Jupyter by running\n",
        "\n",
        "```\n",
        "$ jupyter notebook\n",
        "```\n",
        "\n",
        "7. You can now access Jupyter's web interface by clicking the link that shows up on the terminal or by visiting http://localhost:8888 on your browser. At this point, you can click on the notebook `01-pytorch-basics.ipynb` to open it and run the code. If you want to type out the code yourself, you can also create a new notebook using the 'New' button."
      ]
    },
    {
      "cell_type": "markdown",
      "metadata": {
        "id": "yHo3YAIPFVk2",
        "colab_type": "text"
      },
      "source": [
        "We begin by importing PyTorch:"
      ]
    },
    {
      "cell_type": "code",
      "metadata": {
        "id": "69cWWxiSFVk3",
        "colab_type": "code",
        "colab": {}
      },
      "source": [
        "# Uncomment the command below if PyTorch is not installed\n",
        "# !conda install pytorch cpuonly -c pytorch -y"
      ],
      "execution_count": 0,
      "outputs": []
    },
    {
      "cell_type": "code",
      "metadata": {
        "id": "ypqDC8weFVk7",
        "colab_type": "code",
        "colab": {}
      },
      "source": [
        "import torch"
      ],
      "execution_count": 0,
      "outputs": []
    },
    {
      "cell_type": "markdown",
      "metadata": {
        "id": "FiEVpd-0FVk-",
        "colab_type": "text"
      },
      "source": [
        "## Tensors\n",
        "\n",
        "At its core, PyTorch is a library for processing tensors. A tensor is a number, vector, matrix or any n-dimensional array. Let's create a tensor with a single number:"
      ]
    },
    {
      "cell_type": "code",
      "metadata": {
        "id": "235HSO0hFVk-",
        "colab_type": "code",
        "colab": {},
        "outputId": "8f012ab4-b0ab-4183-a0a2-3e196a035d78"
      },
      "source": [
        "# Number\n",
        "t1 = torch.tensor(4.)\n",
        "t1"
      ],
      "execution_count": 0,
      "outputs": [
        {
          "output_type": "execute_result",
          "data": {
            "text/plain": [
              "tensor(4.)"
            ]
          },
          "metadata": {
            "tags": []
          },
          "execution_count": 7
        }
      ]
    },
    {
      "cell_type": "markdown",
      "metadata": {
        "id": "nUCkdZLyFVlC",
        "colab_type": "text"
      },
      "source": [
        "`4.` is a shorthand for `4.0`. It is used to indicate to Python (and PyTorch) that you want to create a floating point number. We can verify this by checking the `dtype` attribute of our tensor:"
      ]
    },
    {
      "cell_type": "code",
      "metadata": {
        "id": "NwzkQgWjFVlD",
        "colab_type": "code",
        "colab": {},
        "outputId": "98937d72-74aa-4ca7-f9ae-9e12a27b274d"
      },
      "source": [
        "t1.dtype"
      ],
      "execution_count": 0,
      "outputs": [
        {
          "output_type": "execute_result",
          "data": {
            "text/plain": [
              "torch.float32"
            ]
          },
          "metadata": {
            "tags": []
          },
          "execution_count": 8
        }
      ]
    },
    {
      "cell_type": "markdown",
      "metadata": {
        "id": "l-cg8W6jFVlF",
        "colab_type": "text"
      },
      "source": [
        "Let's try creating slightly more complex tensors:"
      ]
    },
    {
      "cell_type": "code",
      "metadata": {
        "id": "ACyLRABYFVlG",
        "colab_type": "code",
        "colab": {},
        "outputId": "acf10eb9-5eab-47c0-de0a-a34547ae8e8f"
      },
      "source": [
        "# Vector\n",
        "t2 = torch.tensor([1., 2, 3, 4])\n",
        "t2"
      ],
      "execution_count": 0,
      "outputs": [
        {
          "output_type": "execute_result",
          "data": {
            "text/plain": [
              "tensor([1., 2., 3., 4.])"
            ]
          },
          "metadata": {
            "tags": []
          },
          "execution_count": 9
        }
      ]
    },
    {
      "cell_type": "code",
      "metadata": {
        "id": "PPQmzOB0FVlI",
        "colab_type": "code",
        "colab": {},
        "outputId": "174e0a5a-8542-41b9-981e-ae789c98093b"
      },
      "source": [
        "# Matrix\n",
        "t3 = torch.tensor([[5., 6], \n",
        "                   [7, 8], \n",
        "                   [9, 10]])\n",
        "t3"
      ],
      "execution_count": 0,
      "outputs": [
        {
          "output_type": "execute_result",
          "data": {
            "text/plain": [
              "tensor([[ 5.,  6.],\n",
              "        [ 7.,  8.],\n",
              "        [ 9., 10.]])"
            ]
          },
          "metadata": {
            "tags": []
          },
          "execution_count": 13
        }
      ]
    },
    {
      "cell_type": "code",
      "metadata": {
        "id": "XD5DUXXKFVlL",
        "colab_type": "code",
        "colab": {},
        "outputId": "847b166e-f738-4d66-df7e-6081382c195f"
      },
      "source": [
        "# 3-dimensional array\n",
        "t4 = torch.tensor([\n",
        "    [[11, 12, 13], \n",
        "     [13, 14, 15]], \n",
        "    [[15, 16, 17], \n",
        "     [17, 18, 19.]]])\n",
        "t4"
      ],
      "execution_count": 0,
      "outputs": [
        {
          "output_type": "execute_result",
          "data": {
            "text/plain": [
              "tensor([[[11., 12., 13.],\n",
              "         [13., 14., 15.]],\n",
              "\n",
              "        [[15., 16., 17.],\n",
              "         [17., 18., 19.]]])"
            ]
          },
          "metadata": {
            "tags": []
          },
          "execution_count": 15
        }
      ]
    },
    {
      "cell_type": "markdown",
      "metadata": {
        "id": "UW62SntIFVlN",
        "colab_type": "text"
      },
      "source": [
        "Tensors can have any number of dimensions, and different lengths along each dimension. We can inspect the length along each dimension using the `.shape` property of a tensor."
      ]
    },
    {
      "cell_type": "code",
      "metadata": {
        "id": "I3EWltvTFVlO",
        "colab_type": "code",
        "colab": {},
        "outputId": "743f5931-277a-4d26-86b2-1a4f9d134fa7"
      },
      "source": [
        "print(t1)\n",
        "t1.shape"
      ],
      "execution_count": 0,
      "outputs": [
        {
          "output_type": "stream",
          "text": [
            "tensor(4.)\n"
          ],
          "name": "stdout"
        },
        {
          "output_type": "execute_result",
          "data": {
            "text/plain": [
              "torch.Size([])"
            ]
          },
          "metadata": {
            "tags": []
          },
          "execution_count": 16
        }
      ]
    },
    {
      "cell_type": "code",
      "metadata": {
        "id": "7OQ6QQX8FVlQ",
        "colab_type": "code",
        "colab": {},
        "outputId": "5cf60419-0e35-4c24-bf64-6fbb0e7c2236"
      },
      "source": [
        "print(t2)\n",
        "t2.shape"
      ],
      "execution_count": 0,
      "outputs": [
        {
          "output_type": "stream",
          "text": [
            "tensor([1., 2., 3., 4.])\n"
          ],
          "name": "stdout"
        },
        {
          "output_type": "execute_result",
          "data": {
            "text/plain": [
              "torch.Size([4])"
            ]
          },
          "metadata": {
            "tags": []
          },
          "execution_count": 17
        }
      ]
    },
    {
      "cell_type": "code",
      "metadata": {
        "id": "nB5nnl5MFVlS",
        "colab_type": "code",
        "colab": {},
        "outputId": "0fdd383b-7305-421e-fbc2-26c5c84e1a88"
      },
      "source": [
        "print(t3)\n",
        "t3.shape"
      ],
      "execution_count": 0,
      "outputs": [
        {
          "output_type": "stream",
          "text": [
            "tensor([[ 5.,  6.],\n",
            "        [ 7.,  8.],\n",
            "        [ 9., 10.]])\n"
          ],
          "name": "stdout"
        },
        {
          "output_type": "execute_result",
          "data": {
            "text/plain": [
              "torch.Size([3, 2])"
            ]
          },
          "metadata": {
            "tags": []
          },
          "execution_count": 18
        }
      ]
    },
    {
      "cell_type": "code",
      "metadata": {
        "id": "x5S6iJHQFVlU",
        "colab_type": "code",
        "colab": {},
        "outputId": "3fa9a881-e9df-4562-ed07-93d5999050fd"
      },
      "source": [
        "print(t4)\n",
        "t4.shape"
      ],
      "execution_count": 0,
      "outputs": [
        {
          "output_type": "stream",
          "text": [
            "tensor([[[11., 12., 13.],\n",
            "         [13., 14., 15.]],\n",
            "\n",
            "        [[15., 16., 17.],\n",
            "         [17., 18., 19.]]])\n"
          ],
          "name": "stdout"
        },
        {
          "output_type": "execute_result",
          "data": {
            "text/plain": [
              "torch.Size([2, 2, 3])"
            ]
          },
          "metadata": {
            "tags": []
          },
          "execution_count": 19
        }
      ]
    },
    {
      "cell_type": "markdown",
      "metadata": {
        "id": "01vB3vyUFVlW",
        "colab_type": "text"
      },
      "source": [
        "## Tensor operations and gradients\n",
        "\n",
        "We can combine tensors with the usual arithmetic operations. Let's look an example:"
      ]
    },
    {
      "cell_type": "code",
      "metadata": {
        "id": "LquTVhn-FVlX",
        "colab_type": "code",
        "colab": {},
        "outputId": "86a88dd1-c6c0-4f10-d738-4a1e1dc699f0"
      },
      "source": [
        "# Create tensors.\n",
        "x = torch.tensor(3.)\n",
        "w = torch.tensor(4., requires_grad=True)\n",
        "b = torch.tensor(5., requires_grad=True)\n",
        "x, w, b"
      ],
      "execution_count": 0,
      "outputs": [
        {
          "output_type": "execute_result",
          "data": {
            "text/plain": [
              "(tensor(3.), tensor(4., requires_grad=True), tensor(5., requires_grad=True))"
            ]
          },
          "metadata": {
            "tags": []
          },
          "execution_count": 21
        }
      ]
    },
    {
      "cell_type": "markdown",
      "metadata": {
        "id": "Rl5kobwHFVlZ",
        "colab_type": "text"
      },
      "source": [
        "We've created 3 tensors `x`, `w` and `b`, all numbers. `w` and `b` have an additional parameter `requires_grad` set to `True`. We'll see what it does in just a moment. \n",
        "\n",
        "Let's create a new tensor `y` by combining these tensors:"
      ]
    },
    {
      "cell_type": "code",
      "metadata": {
        "id": "tbCiMyxuFVlb",
        "colab_type": "code",
        "colab": {},
        "outputId": "d3f9d136-99b3-4f83-f96d-7544b61ea776"
      },
      "source": [
        "# Arithmetic operations\n",
        "y = w * x + b\n",
        "y"
      ],
      "execution_count": 0,
      "outputs": [
        {
          "output_type": "execute_result",
          "data": {
            "text/plain": [
              "tensor(17., grad_fn=<AddBackward0>)"
            ]
          },
          "metadata": {
            "tags": []
          },
          "execution_count": 22
        }
      ]
    },
    {
      "cell_type": "markdown",
      "metadata": {
        "id": "uc0DQz35FVle",
        "colab_type": "text"
      },
      "source": [
        "As expected, `y` is a tensor with the value `3 * 4 + 5 = 17`. What makes PyTorch special is that we can automatically compute the derivative of `y` w.r.t. the tensors that have `requires_grad` set to `True` i.e. w and b. To compute the derivatives, we can call the `.backward` method on our result `y`."
      ]
    },
    {
      "cell_type": "code",
      "metadata": {
        "id": "35oCpufVFVle",
        "colab_type": "code",
        "colab": {}
      },
      "source": [
        "# Compute derivatives\n",
        "y.backward()"
      ],
      "execution_count": 0,
      "outputs": []
    },
    {
      "cell_type": "markdown",
      "metadata": {
        "id": "yYVJsla5FVlg",
        "colab_type": "text"
      },
      "source": [
        "The derivates of `y` w.r.t the input tensors are stored in the `.grad` property of the respective tensors."
      ]
    },
    {
      "cell_type": "code",
      "metadata": {
        "id": "IAkdkPOyFVlh",
        "colab_type": "code",
        "colab": {},
        "outputId": "e98d7100-7399-4cf2-b4a2-f3d9157e146f"
      },
      "source": [
        "# Display gradients\n",
        "print('dy/dx:', x.grad)\n",
        "print('dy/dw:', w.grad)\n",
        "print('dy/db:', b.grad)"
      ],
      "execution_count": 0,
      "outputs": [
        {
          "output_type": "stream",
          "text": [
            "dy/dx: None\n",
            "dy/dw: tensor(3.)\n",
            "dy/db: tensor(1.)\n"
          ],
          "name": "stdout"
        }
      ]
    },
    {
      "cell_type": "markdown",
      "metadata": {
        "id": "O6V5Xh1GFVlk",
        "colab_type": "text"
      },
      "source": [
        "As expected, `dy/dw` has the same value as `x` i.e. `3`, and `dy/db` has the value `1`. Note that `x.grad` is `None`, because `x` doesn't have `requires_grad` set to `True`. \n",
        "\n",
        "The \"grad\" in `w.grad` stands for gradient, which is another term for derivative, used mainly when dealing with matrices. "
      ]
    },
    {
      "cell_type": "markdown",
      "metadata": {
        "id": "7Gaiq4SFFVll",
        "colab_type": "text"
      },
      "source": [
        "## Interoperability with Numpy\n",
        "\n",
        "[Numpy](http://www.numpy.org/) is a popular open source library used for mathematical and scientific computing in Python. It enables efficient operations on large multi-dimensional arrays, and has a large ecosystem of supporting libraries:\n",
        "\n",
        "* [Matplotlib](https://matplotlib.org/) for plotting and visualization\n",
        "* [OpenCV](https://opencv.org/) for image and video processing\n",
        "* [Pandas](https://pandas.pydata.org/) for file I/O and data analysis\n",
        "\n",
        "Instead of reinventing the wheel, PyTorch interoperates really well with Numpy to leverage its existing ecosystem of tools and libraries."
      ]
    },
    {
      "cell_type": "markdown",
      "metadata": {
        "id": "QP7cSiqCFVll",
        "colab_type": "text"
      },
      "source": [
        "Here's how we create an array in Numpy:"
      ]
    },
    {
      "cell_type": "code",
      "metadata": {
        "id": "i0T0ja95FVll",
        "colab_type": "code",
        "colab": {},
        "outputId": "20bfc701-b2fe-47c1-c181-a3ad1198d772"
      },
      "source": [
        "import numpy as np\n",
        "\n",
        "x = np.array([[1, 2], [3, 4.]])\n",
        "x"
      ],
      "execution_count": 0,
      "outputs": [
        {
          "output_type": "execute_result",
          "data": {
            "text/plain": [
              "array([[1., 2.],\n",
              "       [3., 4.]])"
            ]
          },
          "metadata": {
            "tags": []
          },
          "execution_count": 25
        }
      ]
    },
    {
      "cell_type": "markdown",
      "metadata": {
        "id": "e12L0jmSFVlo",
        "colab_type": "text"
      },
      "source": [
        "We can convert a Numpy array to a PyTorch tensor using `torch.from_numpy`."
      ]
    },
    {
      "cell_type": "code",
      "metadata": {
        "id": "H1D6uhYPFVlo",
        "colab_type": "code",
        "colab": {},
        "outputId": "d4d4d5c7-3d3d-45d8-de76-40591aeb2dab"
      },
      "source": [
        "# Convert the numpy array to a torch tensor.\n",
        "y = torch.from_numpy(x)\n",
        "y"
      ],
      "execution_count": 0,
      "outputs": [
        {
          "output_type": "execute_result",
          "data": {
            "text/plain": [
              "tensor([[1., 2.],\n",
              "        [3., 4.]], dtype=torch.float64)"
            ]
          },
          "metadata": {
            "tags": []
          },
          "execution_count": 26
        }
      ]
    },
    {
      "cell_type": "markdown",
      "metadata": {
        "id": "jNDPL6maFVlq",
        "colab_type": "text"
      },
      "source": [
        "Let's verify that the numpy array and torch tensor have similar data types."
      ]
    },
    {
      "cell_type": "code",
      "metadata": {
        "id": "pg2kiClzFVlq",
        "colab_type": "code",
        "colab": {},
        "outputId": "273d8df8-f80c-4e84-e016-845042e9e89a"
      },
      "source": [
        "x.dtype, y.dtype"
      ],
      "execution_count": 0,
      "outputs": [
        {
          "output_type": "execute_result",
          "data": {
            "text/plain": [
              "(dtype('float64'), torch.float64)"
            ]
          },
          "metadata": {
            "tags": []
          },
          "execution_count": 27
        }
      ]
    },
    {
      "cell_type": "markdown",
      "metadata": {
        "id": "RU7xvZP2FVls",
        "colab_type": "text"
      },
      "source": [
        "We can convert a PyTorch tensor to a Numpy array using the `.numpy` method of a tensor."
      ]
    },
    {
      "cell_type": "code",
      "metadata": {
        "id": "D5h3nMzgFVls",
        "colab_type": "code",
        "colab": {},
        "outputId": "3a3fd580-6ba3-48b7-edd5-91a636bb4ec8"
      },
      "source": [
        "# Convert a torch tensor to a numpy array\n",
        "z = y.numpy()\n",
        "z"
      ],
      "execution_count": 0,
      "outputs": [
        {
          "output_type": "execute_result",
          "data": {
            "text/plain": [
              "array([[1., 2.],\n",
              "       [3., 4.]])"
            ]
          },
          "metadata": {
            "tags": []
          },
          "execution_count": 28
        }
      ]
    },
    {
      "cell_type": "markdown",
      "metadata": {
        "id": "JvQ8SEjdFVlu",
        "colab_type": "text"
      },
      "source": [
        "The interoperability between PyTorch and Numpy is really important because most datasets you'll work with will likely be read and preprocessed as Numpy arrays."
      ]
    },
    {
      "cell_type": "markdown",
      "metadata": {
        "id": "V7RxPvQUFVlv",
        "colab_type": "text"
      },
      "source": [
        "## Commit and upload the notebook\n",
        "\n",
        "As a final step, we can save and commit out work using the `jovian` library."
      ]
    },
    {
      "cell_type": "code",
      "metadata": {
        "id": "qW22QPESFVlv",
        "colab_type": "code",
        "colab": {}
      },
      "source": [
        "!pip install jovian --upgrade --quiet"
      ],
      "execution_count": 0,
      "outputs": []
    },
    {
      "cell_type": "code",
      "metadata": {
        "id": "p-k9ORJmFVlx",
        "colab_type": "code",
        "colab": {}
      },
      "source": [
        "import jovian"
      ],
      "execution_count": 0,
      "outputs": []
    },
    {
      "cell_type": "code",
      "metadata": {
        "id": "HNR06KFRFVl0",
        "colab_type": "code",
        "colab": {},
        "outputId": "5e25835c-9707-4011-f5c8-5b3146b4b972"
      },
      "source": [
        "jovian.commit()"
      ],
      "execution_count": 0,
      "outputs": [
        {
          "output_type": "display_data",
          "data": {
            "application/javascript": [
              "window.require && require([\"base/js/namespace\"],function(Jupyter){Jupyter.notebook.save_checkpoint()})"
            ],
            "text/plain": [
              "<IPython.core.display.Javascript object>"
            ]
          },
          "metadata": {
            "tags": []
          }
        },
        {
          "output_type": "stream",
          "text": [
            "[jovian] Attempting to save notebook..\u001b[0m\n"
          ],
          "name": "stdout"
        }
      ]
    },
    {
      "cell_type": "markdown",
      "metadata": {
        "id": "UY1LxGZoFVl2",
        "colab_type": "text"
      },
      "source": [
        "`jovian.commit` uploads the notebook to your [Jovian.ml](https://www.jovian.ml) account, captures the Python environment and creates a sharable link for your notebook as shown above. You can use this link to share your work and let anyone reproduce it easily with the `jovian clone` command. Jovian also includes a powerful commenting interface, so you (and others) can discuss & comment on specific parts of your notebook:\n",
        "\n",
        "![commenting on jovian](https://cdn-images-1.medium.com/max/1600/1*b4snnr_5Ve5Nyq60iDtuuw.png)"
      ]
    },
    {
      "cell_type": "markdown",
      "metadata": {
        "id": "WxfV-Di2FVl3",
        "colab_type": "text"
      },
      "source": [
        "## Further Reading\n",
        "\n",
        "Tensors in PyTorch support a variety of operations, and what we've covered here is by no means exhaustive. You can learn more about tensors and tensor operations here: https://pytorch.org/docs/stable/tensors.html\n",
        "\n",
        "You can take advantage of the interactive Jupyter environment to experiment with tensors and try different combinations of operations discussed above. Here are some things to try out:\n",
        "\n",
        "1. What if one or more `x`, `w` or `b` were matrices, instead of numbers, in the above example? What would the result `y` and the gradients `w.grad` and `b.grad` look like in this case?\n",
        "\n",
        "2. What if `y` was a matrix created using `torch.tensor`, with each element of the matrix expressed as a combination of numeric tensors `x`, `w` and `b`?\n",
        "\n",
        "3. What if we had a chain of operations instead of just one i.e. `y = x * w + b`, `z = l * y + m`, `w = c * z + d` and so on? What would calling `w.grad` do?\n",
        "\n",
        "If you're interested, you can learn more about matrix derivates on Wikipedia (although it's not necessary for following along with this series of tutorials): https://en.wikipedia.org/wiki/Matrix_calculus#Derivatives_with_matrices "
      ]
    },
    {
      "cell_type": "markdown",
      "metadata": {
        "id": "j5eTZ_gnFVl3",
        "colab_type": "text"
      },
      "source": [
        "With this, we complete our discussion of tensors and gradients in PyTorch, and we're ready to move on to the next topic: *Linear regression*.\n",
        "\n",
        "## Credits\n",
        "\n",
        "The material in this series is heavily inspired by the following resources:\n",
        "\n",
        "1. [PyTorch Tutorial for Deep Learning Researchers](https://github.com/yunjey/pytorch-tutorial) by Yunjey Choi: \n",
        "\n",
        "2. [FastAI development notebooks](https://github.com/fastai/fastai_docs/tree/master/dev_nb) by Jeremy Howard: \n"
      ]
    }
  ]
}